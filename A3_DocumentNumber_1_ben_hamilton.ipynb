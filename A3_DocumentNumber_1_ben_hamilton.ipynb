{
 "cells": [
  {
   "cell_type": "markdown",
   "metadata": {},
   "source": [
    "##  <center>Assessment 3</center>\n",
    "##  <center>WebCrawler and NLP System</center>"
   ]
  },
  {
   "cell_type": "markdown",
   "metadata": {},
   "source": [
    "## Task1"
   ]
  },
  {
   "cell_type": "markdown",
   "metadata": {},
   "source": [
    "#  <center>Assessment 3</center>
##  <center>WebCrawler and NLP System</center>
## Task1

### Overview:

<font size="3"> The majority of wine drinkers are not experts. They mostly buy wine by price, label type and reputation (aka marketing) [1]. To buy a wine without being disappointed, one would require a trial an error approach, record metadata for each bottle, for example, price, grape variety, blend, region, country etc. And do not forget the descriptive words, such as 'a subtle hint of chocolate'. This would take considerable effort, expense, and discipline. Moreover, non-wine experts do not use strong adjectives, nouns, and verbs. What if chance could be taken out of buying wine, the chance of being disappointed is better than 51%?

This project compares wine reviews from wine experts and the average wine drinker, i.e, community reviews. The project goal is to use NLP to compare both the expert and non-expert reviews and see if it is possible to tell the difference. These differences can be used in future work to produce a balanced and more realistic review, so that the average wine drinker can understand, and hopeful chose to buy or not to buy the wine. 

To achieve this goal, a WebCrawler takes a wine list from a popular Australian website, 'nicks.com.au'. This website was chosen due to large number of wines available. The wine items chosen are red wines between \\$15&ndash;\$40, mainly to reduce the wine list, however, this price range will be the typical purchase price for the non-wine expert. Another WebCrawler is used to find wine reviews ('vivinos.com'), uaing the same wine list, however from non-wine experts. Natural Language Processing analysis is used to find key words within each review, these words are then used to predict if a review is from and expert or not. The results can be used for a new review, and used to  complement the buying decision. It will help the average wine drinker by removing the impact of label type, price and reputation from the purchase.</font>"
   
    
    
    
    
   ]
  }
 ],
 "metadata": {
  "kernelspec": {
   "display_name": "Python 3",
   "language": "python",
   "name": "python3"
  },
  "language_info": {
   "codemirror_mode": {
    "name": "ipython",
    "version": 3
   },
   "file_extension": ".py",
   "mimetype": "text/x-python",
   "name": "python",
   "nbconvert_exporter": "python",
   "pygments_lexer": "ipython3",
   "version": "3.8.5"
  }
 },
 "nbformat": 4,
 "nbformat_minor": 4
}
