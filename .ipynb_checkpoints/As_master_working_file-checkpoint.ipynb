{
 "cells": [
  {
   "cell_type": "markdown",
   "metadata": {},
   "source": [
    "##  <center>Assessment 3</center>\n",
    "##  <center>WebCrawler and NLP System</center>"
   ]
  },
  {
   "cell_type": "markdown",
   "metadata": {},
   "source": [
    "## Task1"
   ]
  },
  {
   "cell_type": "markdown",
   "metadata": {},
   "source": [
    "## Overview:\n",
    "\n",
    "<font size=\"3\"> The majority of wine drinkers are not experts. Most buy wine by price, label type and reputation (aka marketing) [1]. To buy a wine without being disappointed, one would require a trial an error approach, record metadata for each bottle, for example, price, grape, blend, region, country etc, and do not forget the wine drinkers descriptives such as 'a subtle hint of chocolate'. This would take considerable effort, expense, and discipline. What if chance could be taken out of buying wine, the change of being disappointed is better than 51%?<br><br>This project compares wine reviews and sentiment from wine experts and the average wine drinker, aka wine plebs. The project goal uses NLP to produce a review that is a balance between the expert and the average wine drinker. To achieve this goal, a WebCrawler takes a wine list from a popular Australian website, nicks.com.au. This website was chosen due to large number of wine items available. The wine items chosen are red wines between \\\\$15&ndash;\\$40, mainly to reduce the wine list, however, this price range will be typlical for the non-wine expert. Another WebCrawler is used to find wine reviews from the experts and non-experts. Natural Language Processing sentiment analysis is used fine key words within each review, these words sentiment are then used to create a new review. This new review is a complementary decision maker for the average wine drinker that removes the impact of label type and reputation from the purchase.</font>\n",
    "\n",
    "    "
   ]
  },
  {
   "cell_type": "markdown",
   "metadata": {},
   "source": [
    "## References\n",
    "[1] Spence, C (2020). Wine psychology: basic & applied. _Cogn. Research_ _5_, 22 . https://doi.org/10.1186/s41235-020-00225-6"
   ]
  },
  {
   "cell_type": "markdown",
   "metadata": {},
   "source": [
    "## Task2"
   ]
  },
  {
   "cell_type": "markdown",
   "metadata": {},
   "source": [
    "<font size=\"3\">This section scrapes 10,080 red wine products between \\\\$15&ndash;\\$40, using 'vintage', 'product', 'price' and 'rating'. The scraped then iterates through the wine list, adds wine name (product) to the search bar of nicks.com.au, then scrapes the wine description. Description to be used in NLP analysis.</font>"
   ]
  },
  {
   "cell_type": "code",
   "execution_count": null,
   "metadata": {},
   "outputs": [],
   "source": [
    "import time\n",
    "from selenium import webdriver\n",
    "from selenium.webdriver.common.keys import Keys\n",
    "from selenium.webdriver.support.ui import WebDriverWait\n",
    "from selenium.webdriver.support import expected_conditions as EC\n",
    "from selenium.webdriver.common.by import By\n",
    "import pandas as pd"
   ]
  },
  {
   "cell_type": "code",
   "execution_count": 40,
   "metadata": {},
   "outputs": [
    {
     "name": "stdout",
     "output_type": "stream",
     "text": [
      "  Vintage                                     Wine Rating    Price\n",
      "0    2018       Powell & Son Barossa Valley Shiraz     96  $357.00\n",
      "1    2018            Brave Souls The Whaler Shiraz     96  $258.00\n",
      "2    2016         Incygnes Green’s Vineyard Shiraz     96  $354.00\n",
      "3    2018  Heathcote Estate Single Vineyard Shiraz     96  $479.88\n",
      "4    2018     Mr Riggs Outpost Coonawarra Cabernet     96  $239.88\n",
      "   Vintage                                     Wine  Rating    Price  \\\n",
      "0     2018       Powell & Son Barossa Valley Shiraz      96  $357.00   \n",
      "1     2018            Brave Souls The Whaler Shiraz      96  $258.00   \n",
      "2     2016         Incygnes Green’s Vineyard Shiraz      96  $354.00   \n",
      "3     2018  Heathcote Estate Single Vineyard Shiraz      96  $479.88   \n",
      "4     2018     Mr Riggs Outpost Coonawarra Cabernet      96  $239.88   \n",
      "\n",
      "                                         Description  \n",
      "0  Fruit for this wine is sourced from mature vin...  \n",
      "1  New comer Julia Weirich in collaboration with ...  \n",
      "2  Aged for 18 months in French oak hogsheads of ...  \n",
      "3  The 2018 vintage in Heathcote produced wines o...  \n",
      "4  Ben Riggs sourced the fruit for this excellent...  \n"
     ]
    }
   ],
   "source": [
    "# Chrome driver setup with loading/scroll\n",
    "\n",
    "def selem_drive(driver):\n",
    "    driver.set_window_size(1024, 1000)\n",
    "    # 11,571 red wines between $15-$40\n",
    "    url = 'https://www.nicks.com.au/red-wines?cat=9&dir=desc&limit=60&mode=list&order=score&price=3.00-.00000'  \n",
    "    driver.get(url)\n",
    "    # scroll the page, wait 3 seconds and continue until page stops loading\n",
    "    page_len = driver.execute_script(\n",
    "        \"window.scrollTo(0, document.body.scrollHeight);var lenOfPage=document.body.scrollHeight;return lenOfPage;\")\n",
    "    match = False\n",
    "    while match == False:\n",
    "        last_count = page_len\n",
    "        time.sleep(3)\n",
    "        page_len = driver.execute_script(\n",
    "            \"window.scrollTo(0, document.body.scrollHeight);var lenOfPage=document.body.scrollHeight;return lenOfPage;\")\n",
    "        if last_count == page_len:\n",
    "            match = True\n",
    "\n",
    "    return driver\n",
    "\n",
    "\n",
    "# get wine list as defind in driver.get(url)\n",
    "vintage_list, product_list, rating_list, price_list = [], [], [], []\n",
    "\n",
    "\n",
    "def get_elements_nicks(driver):\n",
    "    xpath = '/html/body/div[1]/main/menu[2]/span'\n",
    "    check_num_items = WebDriverWait(driver, 20).until(EC.element_to_be_clickable((By.XPATH, xpath)))\n",
    "    # current_total = int(check_num_items.text[2:4])\n",
    "    total_items = int(check_num_items.text[7:13])\n",
    "    total_pages = round((total_items / 60 + 1))  # 194 pages\n",
    "    tot_to_use = total_pages - 24  # reduce to 10,080 wines\n",
    "    # print(total_items - current_total)\n",
    "\n",
    "    for i in range(2, tot_to_use):\n",
    "\n",
    "        driver.find_element_by_link_text(str(i)).click()\n",
    "\n",
    "        try:\n",
    "            for res in driver.find_elements_by_class_name(\"info\"):\n",
    "                vintage_list.append(res.text.splitlines()[0])\n",
    "                product_list.append(res.text.splitlines()[1])\n",
    "                rating_list.append(res.text.splitlines()[2])\n",
    "                price_list.append(res.text.splitlines()[3])\n",
    "        except IndexError as e:\n",
    "            print(e.args)\n",
    "\n",
    "    # print(vintage_list, product_list, rating_list, price_list)\n",
    "    #print(len(vintage_list), len(product_list), len(rating_list), len(price_list))\n",
    "    df = ({'Vintage': vintage_list, 'Wine': product_list, 'Rating': rating_list, 'Price': price_list})\n",
    "    wine_data = pd.DataFrame(df)\n",
    "    wine_data.to_csv('nicks_wine_data_list.csv', index=False, header=True, encoding='utf-8')\n",
    "    print(wine_data.head())\n",
    "    \n",
    "\n",
    "# search wine list (nicks_wine_data.csv) and combines wine list with wine descriptions to nicks_wine_data_.csv\n",
    "desc_list = []\n",
    "\n",
    "\n",
    "def search_elements_nicks(driver):\n",
    "    wine_data = pd.read_csv(\"nicks_wine_data_list.csv\")\n",
    "    result = wine_data['Vintage'].apply(str) + ' ' + wine_data['Wine'].apply(str)\n",
    "\n",
    "    try:\n",
    "        for i in result:\n",
    "            search = driver.find_element_by_xpath('//*[@id=\"search\"]')\n",
    "            search.send_keys(i)\n",
    "            search.send_keys(Keys.RETURN)\n",
    "            element = driver.find_element_by_xpath('//*[@id=\"hits\"]/div/div/div/ul/li[2]/a')\n",
    "            element.click()\n",
    "\n",
    "            for desc in driver.find_elements_by_xpath('/html/body/div[1]/main/div[1]/div[2]/div[3]'):\n",
    "                desc_list.append(desc.text)\n",
    "    except:\n",
    "        pass\n",
    "\n",
    "    df_desc = ({'Description': desc_list})\n",
    "    nicks_wine_data_desc = pd.DataFrame(df_desc)\n",
    "    nicks_wine_data_desc.to_csv('nicks_wine_data_desc.csv', index=False, header=True, encoding='utf-8')\n",
    "\n",
    "    wine_data_list = pd.read_csv(\"nicks_wine_data_list.csv\")\n",
    "    wine_data_desc = pd.read_csv(\"nicks_wine_data_desc.csv\")\n",
    "    nicks_wine_data = pd.concat([wine_data_list, wine_data_desc], axis=1)\n",
    "    # wine dataset to use\n",
    "    nicks_wine_data.to_csv('nicks_wine_data.csv', index=False, header=True, encoding='utf-8')\n",
    "    print(nicks_wine_data.head())\n",
    "\n",
    "\n",
    "if __name__ == '__main__':\n",
    "    driver = webdriver.Chrome(executable_path=r'C:/seleniumChromeDriver/chromedriver_win32/chromedriver.exe')\n",
    "    selem_drive(driver)\n",
    "    get_elements_nicks(driver)\n",
    "    search_elements_nicks(driver)"
   ]
  },
  {
   "cell_type": "code",
   "execution_count": null,
   "metadata": {},
   "outputs": [],
   "source": []
  }
 ],
 "metadata": {
  "kernelspec": {
   "display_name": "Python 3",
   "language": "python",
   "name": "python3"
  },
  "language_info": {
   "codemirror_mode": {
    "name": "ipython",
    "version": 3
   },
   "file_extension": ".py",
   "mimetype": "text/x-python",
   "name": "python",
   "nbconvert_exporter": "python",
   "pygments_lexer": "ipython3",
   "version": "3.8.5"
  }
 },
 "nbformat": 4,
 "nbformat_minor": 4
}
