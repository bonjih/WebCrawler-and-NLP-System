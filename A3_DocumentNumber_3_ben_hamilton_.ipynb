{
 "cells": [
  {
   "cell_type": "markdown",
   "metadata": {},
   "source": [
    "##  <center>Assessment 3</center>\n",
    "##  <center>WebCrawler and NLP System</center>\n",
    "\n",
    "### <font size=\"3\"><center>Literature Review</center>\n",
    "Due to the nature of wine descriptions, albeit from non-wine experts and experts, all use specific words, to describe wine. As mentioned in document 2, wine experts tend to use more frequently strong nouns and adjectives, where non-wine experts use week nouns and adjectives. \n",
    "\n",
    "An ‘online addiction recovery forums' study, where posted messages are moderated to detect risk, moderators spend many hours reading hundreds of messages, very time consuming[6]. Their paper looked at three classifiers SVM, decision tree and boosting decision tree, using, Bag-of-Words, Linguistic Inquiry and Word Count and a Hybrid (using the most important features from the other three classifiers). According to [6], and analysing 2581 messages, their study found that 'SVM performed worst with improvements in decision trees and best performance in boosted decision trees where we achieved F-scores of 0.88, 0.89, and 0.94 for the BoW, LIWC, and hybrid approaches, respectively'[Kornfield et a, 2018, p. 6). Boosted decision trees using the hybrid approach looked to perform the best. However, a study that applied POS to obscure languages [7], found that SVM with oneVsrest classification obtain an accuracy of 86%. It appears different models suit specific situations.\n",
    "    \n",
    "Nevertheless, and due this task using speech, the Support Vector Machines approach using a Part of Speech tagging (POS) with a Decision Tree Classifier (Random Forest) is appropriate. Support Vector Machines are widely used supervised machine learning algorithm [3][4]. They are reasonably easily you implement, understand and interpretable, however requires data preparation for example, normalisation [4]. POS tagging is a process of assigning a tag to every word in a sentence. It depends not only on the word whose tag ID identified, but also its neighbouring words. The same word can have different meanings depending on the context. \n",
    "\n",
    "The features used in SVM is the word itself, and SVM hyperparameters -  C=10, gamma=0.001, kernel='linear', cv=5\n",
    "\n",
    "</font>\n"
   ]
  },
  {
   "cell_type": "markdown",
   "metadata": {},
   "source": [
    "<font size=\"3\">\n",
    "    \n",
    "[2] Sathya, R, Abraham, A (2013). Comparison of supervised and unsupervised learning algorithm for pattern classification. \n",
    "    *International Journal of Advanced Research in Artificial Intelligence*, *2*(3)   \n",
    "    \n",
    "[3] Patel, B, R, Rana, K, K (2014). A Survey on Decision Tree Algorithms for Classification.  *IJEDR*, *5*(1), ISSN: 2321-9939\n",
    "\n",
    "[4] Wahbeh, A. H, Radaideh, Q. A, Kabi, Shawakfa, M. N (2012). A Comparison Study between Data Mining Tools over some \n",
    "    Classification Methods. *(IJACSA) International Journal of Advanced Computer Science and Applications*, 18-26.\n",
    "\n",
    "[5] Quinlan, J. R, Rivest, R. L (1989). Inferring Decision Trees using Minimum Description Length Principle, *Information \n",
    "    and Computation*, *80*(3), 227-248, Academic Press, USA \n",
    "    \n",
    "[6] Kornfield et al (2018). Detecting Recovery Problems Just in Time: Application of Automated Linguistic Analysis and\n",
    "    Supervised Machine Learning to an Online Substance Abuse Forum, *Journal of Medical Internet Research*, *20*(6), \n",
    "    doi:10.2196/10136 \n",
    "\n",
    "[7] Todi, K, K, Mishra, P, Sharma, D, M (2018). Building a Kannada POS Tagger Using Machine Learning and Neural Network Models,\n",
    "    *JManipal Institute of Technology*, 1-10, arXiv:1808.03175v1  </font>"
   ]
  },
  {
   "cell_type": "markdown",
   "metadata": {},
   "source": [
    "<font size=\"3\"> The following section show NLP process using Part of Speech (POS) tagging with Support Vector Machines.</font>"
   ]
  },
  {
   "cell_type": "code",
   "execution_count": 1,
   "metadata": {
    "id": "E4y-LA_WeWD7"
   },
   "outputs": [],
   "source": [
    "import os\n",
    "import fnmatch\n",
    "from textblob import TextBlob\n",
    "import pandas as pd\n",
    "import numpy as np\n",
    "from sklearn.feature_extraction.text import TfidfVectorizer\n",
    "from nltk.corpus import stopwords\n",
    "from nltk import pos_tag,pos_tag_sents\n",
    "import regex as re\n",
    "import operator\n",
    "from sklearn.svm import SVC, LinearSVC\n",
    "from sklearn.metrics import classification_report, accuracy_score, confusion_matrix\n",
    "from sklearn.model_selection import train_test_split\n",
    "from sklearn import metrics\n",
    "from sklearn import svm\n",
    "from sklearn.model_selection import GridSearchCV\n",
    "import pickle\n",
    "from nltk.corpus import stopwords"
   ]
  },
  {
   "cell_type": "code",
   "execution_count": 2,
   "metadata": {
    "id": "K9FtQ_nCewOd"
   },
   "outputs": [],
   "source": [
    "wine_data = pd.read_csv(\"final_wine_data.csv\", encoding=\"ISO-8859-1\")"
   ]
  },
  {
   "cell_type": "code",
   "execution_count": 3,
   "metadata": {
    "colab": {
     "base_uri": "https://localhost:8080/"
    },
    "id": "4-BnnadPokze",
    "outputId": "bee02b1a-de40-42d1-8763-071b319f04a2"
   },
   "outputs": [
    {
     "data": {
      "text/plain": [
       "Vintage                  0\n",
       "Wine                     0\n",
       "Expert_Rating            0\n",
       "Price                    0\n",
       "Price2                   0\n",
       "Expert_Description    3665\n",
       "desc_vivino           8970\n",
       "Community_Rating      8969\n",
       "Ex_Rating_Norm           0\n",
       "Comm_Rating_Norm      8968\n",
       "dtype: int64"
      ]
     },
     "execution_count": 3,
     "metadata": {},
     "output_type": "execute_result"
    }
   ],
   "source": [
    "wine_data.isna().sum()"
   ]
  },
  {
   "cell_type": "markdown",
   "metadata": {},
   "source": [
    "<font size=\"3\"> To distinguish between expert and no expert reviews, labels are applied, '1' for expert and '0' for non-wine expert. </font>"
   ]
  },
  {
   "cell_type": "code",
   "execution_count": 4,
   "metadata": {
    "colab": {
     "base_uri": "https://localhost:8080/",
     "height": 415
    },
    "id": "_wdaNiEgnkmm",
    "outputId": "8f36c388-0665-4e0e-ed57-84ad195a50b7"
   },
   "outputs": [
    {
     "data": {
      "text/html": [
       "<div>\n",
       "<style scoped>\n",
       "    .dataframe tbody tr th:only-of-type {\n",
       "        vertical-align: middle;\n",
       "    }\n",
       "\n",
       "    .dataframe tbody tr th {\n",
       "        vertical-align: top;\n",
       "    }\n",
       "\n",
       "    .dataframe thead th {\n",
       "        text-align: right;\n",
       "    }\n",
       "</style>\n",
       "<table border=\"1\" class=\"dataframe\">\n",
       "  <thead>\n",
       "    <tr style=\"text-align: right;\">\n",
       "      <th></th>\n",
       "      <th>Review</th>\n",
       "      <th>Labels</th>\n",
       "    </tr>\n",
       "  </thead>\n",
       "  <tbody>\n",
       "    <tr>\n",
       "      <th>0</th>\n",
       "      <td>Pitch black heart with a deep dark red black t...</td>\n",
       "      <td>1</td>\n",
       "    </tr>\n",
       "    <tr>\n",
       "      <th>1</th>\n",
       "      <td>Finely structured, beautifully balanced and bl...</td>\n",
       "      <td>1</td>\n",
       "    </tr>\n",
       "    <tr>\n",
       "      <th>2</th>\n",
       "      <td>Over the last decade or so Sanguine Estate hav...</td>\n",
       "      <td>1</td>\n",
       "    </tr>\n",
       "    <tr>\n",
       "      <th>3</th>\n",
       "      <td>Izway is a partnership of two well-travelled w...</td>\n",
       "      <td>1</td>\n",
       "    </tr>\n",
       "    <tr>\n",
       "      <th>4</th>\n",
       "      <td>Kalleskeâs Greenock Shiraz is a single viney...</td>\n",
       "      <td>1</td>\n",
       "    </tr>\n",
       "    <tr>\n",
       "      <th>5</th>\n",
       "      <td>Sourced from the original Pennyâs Hill viney...</td>\n",
       "      <td>1</td>\n",
       "    </tr>\n",
       "    <tr>\n",
       "      <th>6</th>\n",
       "      <td>Matured in French oak hogsheads for 18 months....</td>\n",
       "      <td>1</td>\n",
       "    </tr>\n",
       "    <tr>\n",
       "      <th>7</th>\n",
       "      <td>Named after Stuart Blackwell, senior winemaker...</td>\n",
       "      <td>1</td>\n",
       "    </tr>\n",
       "    <tr>\n",
       "      <th>8</th>\n",
       "      <td>Fraser Gallopâs Parterre Cabernet takes its ...</td>\n",
       "      <td>1</td>\n",
       "    </tr>\n",
       "    <tr>\n",
       "      <th>9</th>\n",
       "      <td>Sons of Eden is a partnership between winemake...</td>\n",
       "      <td>1</td>\n",
       "    </tr>\n",
       "    <tr>\n",
       "      <th>10</th>\n",
       "      <td>Slightly less curvy, yet still incredibly powe...</td>\n",
       "      <td>1</td>\n",
       "    </tr>\n",
       "    <tr>\n",
       "      <th>11</th>\n",
       "      <td>A blend of 94% Cabernet Sauvignon, 4% Malbec a...</td>\n",
       "      <td>1</td>\n",
       "    </tr>\n",
       "    <tr>\n",
       "      <th>12</th>\n",
       "      <td>Matured in Burgundian oak, 25-30% of which was...</td>\n",
       "      <td>1</td>\n",
       "    </tr>\n",
       "    <tr>\n",
       "      <th>13</th>\n",
       "      <td>Pitch black heart with a deep dark red black t...</td>\n",
       "      <td>1</td>\n",
       "    </tr>\n",
       "    <tr>\n",
       "      <th>14</th>\n",
       "      <td>Home Hill is one of your classic Australian vi...</td>\n",
       "      <td>1</td>\n",
       "    </tr>\n",
       "  </tbody>\n",
       "</table>\n",
       "</div>"
      ],
      "text/plain": [
       "                                               Review  Labels\n",
       "0   Pitch black heart with a deep dark red black t...       1\n",
       "1   Finely structured, beautifully balanced and bl...       1\n",
       "2   Over the last decade or so Sanguine Estate hav...       1\n",
       "3   Izway is a partnership of two well-travelled w...       1\n",
       "4   Kalleskeâs Greenock Shiraz is a single viney...       1\n",
       "5   Sourced from the original Pennyâs Hill viney...       1\n",
       "6   Matured in French oak hogsheads for 18 months....       1\n",
       "7   Named after Stuart Blackwell, senior winemaker...       1\n",
       "8   Fraser Gallopâs Parterre Cabernet takes its ...       1\n",
       "9   Sons of Eden is a partnership between winemake...       1\n",
       "10  Slightly less curvy, yet still incredibly powe...       1\n",
       "11  A blend of 94% Cabernet Sauvignon, 4% Malbec a...       1\n",
       "12  Matured in Burgundian oak, 25-30% of which was...       1\n",
       "13  Pitch black heart with a deep dark red black t...       1\n",
       "14  Home Hill is one of your classic Australian vi...       1"
      ]
     },
     "execution_count": 4,
     "metadata": {},
     "output_type": "execute_result"
    }
   ],
   "source": [
    "df_exp = pd.DataFrame(wine_data)\n",
    "df_exp['Review'] = df_exp['Expert_Description'].copy()\n",
    "df_exp = df_exp.dropna()\n",
    "label = [1]*len(df_exp)\n",
    "df_exp['Labels'] = label\n",
    "df_exp[['Review', 'Labels']].head(15)"
   ]
  },
  {
   "cell_type": "code",
   "execution_count": 5,
   "metadata": {
    "colab": {
     "base_uri": "https://localhost:8080/",
     "height": 415
    },
    "id": "PnbWIXLPoQls",
    "outputId": "613ec714-6d73-4245-e6a7-a2ebfd46b7ad"
   },
   "outputs": [
    {
     "data": {
      "text/html": [
       "<div>\n",
       "<style scoped>\n",
       "    .dataframe tbody tr th:only-of-type {\n",
       "        vertical-align: middle;\n",
       "    }\n",
       "\n",
       "    .dataframe tbody tr th {\n",
       "        vertical-align: top;\n",
       "    }\n",
       "\n",
       "    .dataframe thead th {\n",
       "        text-align: right;\n",
       "    }\n",
       "</style>\n",
       "<table border=\"1\" class=\"dataframe\">\n",
       "  <thead>\n",
       "    <tr style=\"text-align: right;\">\n",
       "      <th></th>\n",
       "      <th>Review</th>\n",
       "      <th>Labels</th>\n",
       "    </tr>\n",
       "  </thead>\n",
       "  <tbody>\n",
       "    <tr>\n",
       "      <th>0</th>\n",
       "      <td>Pitch black heart with a deep dark red black t...</td>\n",
       "      <td>1</td>\n",
       "    </tr>\n",
       "    <tr>\n",
       "      <th>1</th>\n",
       "      <td>Finely structured, beautifully balanced and bl...</td>\n",
       "      <td>1</td>\n",
       "    </tr>\n",
       "    <tr>\n",
       "      <th>2</th>\n",
       "      <td>Over the last decade or so Sanguine Estate hav...</td>\n",
       "      <td>1</td>\n",
       "    </tr>\n",
       "    <tr>\n",
       "      <th>3</th>\n",
       "      <td>Izway is a partnership of two well-travelled w...</td>\n",
       "      <td>1</td>\n",
       "    </tr>\n",
       "    <tr>\n",
       "      <th>4</th>\n",
       "      <td>Kalleskeâs Greenock Shiraz is a single viney...</td>\n",
       "      <td>1</td>\n",
       "    </tr>\n",
       "    <tr>\n",
       "      <th>5</th>\n",
       "      <td>Sourced from the original Pennyâs Hill viney...</td>\n",
       "      <td>1</td>\n",
       "    </tr>\n",
       "    <tr>\n",
       "      <th>6</th>\n",
       "      <td>Matured in French oak hogsheads for 18 months....</td>\n",
       "      <td>1</td>\n",
       "    </tr>\n",
       "    <tr>\n",
       "      <th>7</th>\n",
       "      <td>Named after Stuart Blackwell, senior winemaker...</td>\n",
       "      <td>1</td>\n",
       "    </tr>\n",
       "    <tr>\n",
       "      <th>8</th>\n",
       "      <td>Fraser Gallopâs Parterre Cabernet takes its ...</td>\n",
       "      <td>1</td>\n",
       "    </tr>\n",
       "    <tr>\n",
       "      <th>9</th>\n",
       "      <td>Sons of Eden is a partnership between winemake...</td>\n",
       "      <td>1</td>\n",
       "    </tr>\n",
       "    <tr>\n",
       "      <th>10</th>\n",
       "      <td>Slightly less curvy, yet still incredibly powe...</td>\n",
       "      <td>1</td>\n",
       "    </tr>\n",
       "    <tr>\n",
       "      <th>11</th>\n",
       "      <td>A blend of 94% Cabernet Sauvignon, 4% Malbec a...</td>\n",
       "      <td>1</td>\n",
       "    </tr>\n",
       "    <tr>\n",
       "      <th>12</th>\n",
       "      <td>Matured in Burgundian oak, 25-30% of which was...</td>\n",
       "      <td>1</td>\n",
       "    </tr>\n",
       "    <tr>\n",
       "      <th>13</th>\n",
       "      <td>Pitch black heart with a deep dark red black t...</td>\n",
       "      <td>1</td>\n",
       "    </tr>\n",
       "    <tr>\n",
       "      <th>14</th>\n",
       "      <td>Home Hill is one of your classic Australian vi...</td>\n",
       "      <td>1</td>\n",
       "    </tr>\n",
       "  </tbody>\n",
       "</table>\n",
       "</div>"
      ],
      "text/plain": [
       "                                               Review  Labels\n",
       "0   Pitch black heart with a deep dark red black t...       1\n",
       "1   Finely structured, beautifully balanced and bl...       1\n",
       "2   Over the last decade or so Sanguine Estate hav...       1\n",
       "3   Izway is a partnership of two well-travelled w...       1\n",
       "4   Kalleskeâs Greenock Shiraz is a single viney...       1\n",
       "5   Sourced from the original Pennyâs Hill viney...       1\n",
       "6   Matured in French oak hogsheads for 18 months....       1\n",
       "7   Named after Stuart Blackwell, senior winemaker...       1\n",
       "8   Fraser Gallopâs Parterre Cabernet takes its ...       1\n",
       "9   Sons of Eden is a partnership between winemake...       1\n",
       "10  Slightly less curvy, yet still incredibly powe...       1\n",
       "11  A blend of 94% Cabernet Sauvignon, 4% Malbec a...       1\n",
       "12  Matured in Burgundian oak, 25-30% of which was...       1\n",
       "13  Pitch black heart with a deep dark red black t...       1\n",
       "14  Home Hill is one of your classic Australian vi...       1"
      ]
     },
     "execution_count": 5,
     "metadata": {},
     "output_type": "execute_result"
    }
   ],
   "source": [
    "df_cm = pd.DataFrame(wine_data)\n",
    "df_cm['Review'] = df_cm['desc_vivino'].copy()\n",
    "df_cm = df_exp.dropna()\n",
    "label = [0]*len(df_cm)\n",
    "df_cm['Labels'] = label\n",
    "df_exp[['Review', 'Labels']].head(15)"
   ]
  },
  {
   "cell_type": "markdown",
   "metadata": {},
   "source": [
    "<font size=\"3\"> Combine expert and non expert reviews with lables </font>"
   ]
  },
  {
   "cell_type": "code",
   "execution_count": 6,
   "metadata": {
    "colab": {
     "base_uri": "https://localhost:8080/",
     "height": 415
    },
    "id": "JH9Gb4MQpjwR",
    "outputId": "8cbdb577-a5c9-49b1-f2a8-962d93366d39"
   },
   "outputs": [
    {
     "data": {
      "text/html": [
       "<div>\n",
       "<style scoped>\n",
       "    .dataframe tbody tr th:only-of-type {\n",
       "        vertical-align: middle;\n",
       "    }\n",
       "\n",
       "    .dataframe tbody tr th {\n",
       "        vertical-align: top;\n",
       "    }\n",
       "\n",
       "    .dataframe thead th {\n",
       "        text-align: right;\n",
       "    }\n",
       "</style>\n",
       "<table border=\"1\" class=\"dataframe\">\n",
       "  <thead>\n",
       "    <tr style=\"text-align: right;\">\n",
       "      <th></th>\n",
       "      <th>Review</th>\n",
       "      <th>Labels</th>\n",
       "    </tr>\n",
       "  </thead>\n",
       "  <tbody>\n",
       "    <tr>\n",
       "      <th>0</th>\n",
       "      <td>pitch black heart with a deep dark red black t...</td>\n",
       "      <td>1</td>\n",
       "    </tr>\n",
       "    <tr>\n",
       "      <th>1</th>\n",
       "      <td>finely structured, beautifully balanced and bl...</td>\n",
       "      <td>1</td>\n",
       "    </tr>\n",
       "    <tr>\n",
       "      <th>2</th>\n",
       "      <td>over the last decade or so sanguine estate hav...</td>\n",
       "      <td>1</td>\n",
       "    </tr>\n",
       "    <tr>\n",
       "      <th>3</th>\n",
       "      <td>izway is a partnership of two well-travelled w...</td>\n",
       "      <td>1</td>\n",
       "    </tr>\n",
       "    <tr>\n",
       "      <th>4</th>\n",
       "      <td>kalleskeâs greenock shiraz is a single viney...</td>\n",
       "      <td>1</td>\n",
       "    </tr>\n",
       "    <tr>\n",
       "      <th>5</th>\n",
       "      <td>sourced from the original pennyâs hill viney...</td>\n",
       "      <td>1</td>\n",
       "    </tr>\n",
       "    <tr>\n",
       "      <th>6</th>\n",
       "      <td>matured in french oak hogsheads for 18 months....</td>\n",
       "      <td>1</td>\n",
       "    </tr>\n",
       "    <tr>\n",
       "      <th>7</th>\n",
       "      <td>named after stuart blackwell, senior winemaker...</td>\n",
       "      <td>1</td>\n",
       "    </tr>\n",
       "    <tr>\n",
       "      <th>8</th>\n",
       "      <td>fraser gallopâs parterre cabernet takes its ...</td>\n",
       "      <td>1</td>\n",
       "    </tr>\n",
       "    <tr>\n",
       "      <th>9</th>\n",
       "      <td>sons of eden is a partnership between winemake...</td>\n",
       "      <td>1</td>\n",
       "    </tr>\n",
       "    <tr>\n",
       "      <th>10</th>\n",
       "      <td>slightly less curvy, yet still incredibly powe...</td>\n",
       "      <td>1</td>\n",
       "    </tr>\n",
       "    <tr>\n",
       "      <th>11</th>\n",
       "      <td>a blend of 94% cabernet sauvignon, 4% malbec a...</td>\n",
       "      <td>1</td>\n",
       "    </tr>\n",
       "    <tr>\n",
       "      <th>12</th>\n",
       "      <td>matured in burgundian oak, 25-30% of which was...</td>\n",
       "      <td>1</td>\n",
       "    </tr>\n",
       "    <tr>\n",
       "      <th>13</th>\n",
       "      <td>pitch black heart with a deep dark red black t...</td>\n",
       "      <td>1</td>\n",
       "    </tr>\n",
       "    <tr>\n",
       "      <th>14</th>\n",
       "      <td>home hill is one of your classic australian vi...</td>\n",
       "      <td>1</td>\n",
       "    </tr>\n",
       "  </tbody>\n",
       "</table>\n",
       "</div>"
      ],
      "text/plain": [
       "                                               Review  Labels\n",
       "0   pitch black heart with a deep dark red black t...       1\n",
       "1   finely structured, beautifully balanced and bl...       1\n",
       "2   over the last decade or so sanguine estate hav...       1\n",
       "3   izway is a partnership of two well-travelled w...       1\n",
       "4   kalleskeâs greenock shiraz is a single viney...       1\n",
       "5   sourced from the original pennyâs hill viney...       1\n",
       "6   matured in french oak hogsheads for 18 months....       1\n",
       "7   named after stuart blackwell, senior winemaker...       1\n",
       "8   fraser gallopâs parterre cabernet takes its ...       1\n",
       "9   sons of eden is a partnership between winemake...       1\n",
       "10  slightly less curvy, yet still incredibly powe...       1\n",
       "11  a blend of 94% cabernet sauvignon, 4% malbec a...       1\n",
       "12  matured in burgundian oak, 25-30% of which was...       1\n",
       "13  pitch black heart with a deep dark red black t...       1\n",
       "14  home hill is one of your classic australian vi...       1"
      ]
     },
     "execution_count": 6,
     "metadata": {},
     "output_type": "execute_result"
    }
   ],
   "source": [
    "result = pd.concat([df_exp,df_cm],axis=0)\n",
    "result['Review'] = result['Review'].map(lambda x: x.lower())\n",
    "result[['Review', 'Labels']].head(15)"
   ]
  },
  {
   "cell_type": "code",
   "execution_count": 7,
   "metadata": {
    "colab": {
     "base_uri": "https://localhost:8080/"
    },
    "id": "nmew6hucrh7Y",
    "outputId": "1fd261d6-3f94-4f9e-b83d-37925b812eb2"
   },
   "outputs": [
    {
     "data": {
      "text/html": [
       "<div>\n",
       "<style scoped>\n",
       "    .dataframe tbody tr th:only-of-type {\n",
       "        vertical-align: middle;\n",
       "    }\n",
       "\n",
       "    .dataframe tbody tr th {\n",
       "        vertical-align: top;\n",
       "    }\n",
       "\n",
       "    .dataframe thead th {\n",
       "        text-align: right;\n",
       "    }\n",
       "</style>\n",
       "<table border=\"1\" class=\"dataframe\">\n",
       "  <thead>\n",
       "    <tr style=\"text-align: right;\">\n",
       "      <th></th>\n",
       "      <th>Review</th>\n",
       "      <th>Labels</th>\n",
       "      <th>review_without_stopwords</th>\n",
       "    </tr>\n",
       "  </thead>\n",
       "  <tbody>\n",
       "    <tr>\n",
       "      <th>0</th>\n",
       "      <td>pitch black heart with a deep dark red black t...</td>\n",
       "      <td>1</td>\n",
       "      <td>pitch black heart deep dark red black tinged h...</td>\n",
       "    </tr>\n",
       "    <tr>\n",
       "      <th>1</th>\n",
       "      <td>finely structured, beautifully balanced and bl...</td>\n",
       "      <td>1</td>\n",
       "      <td>finely structured, beautifully balanced blesse...</td>\n",
       "    </tr>\n",
       "    <tr>\n",
       "      <th>2</th>\n",
       "      <td>over the last decade or so sanguine estate hav...</td>\n",
       "      <td>1</td>\n",
       "      <td>last decade sanguine estate steadily built rep...</td>\n",
       "    </tr>\n",
       "    <tr>\n",
       "      <th>3</th>\n",
       "      <td>izway is a partnership of two well-travelled w...</td>\n",
       "      <td>1</td>\n",
       "      <td>izway partnership two well-travelled winemaker...</td>\n",
       "    </tr>\n",
       "    <tr>\n",
       "      <th>4</th>\n",
       "      <td>kalleskeâs greenock shiraz is a single viney...</td>\n",
       "      <td>1</td>\n",
       "      <td>kalleskeâs greenock shiraz single vineyard w...</td>\n",
       "    </tr>\n",
       "    <tr>\n",
       "      <th>5</th>\n",
       "      <td>sourced from the original pennyâs hill viney...</td>\n",
       "      <td>1</td>\n",
       "      <td>sourced original pennyâs hill vineyard, slig...</td>\n",
       "    </tr>\n",
       "    <tr>\n",
       "      <th>6</th>\n",
       "      <td>matured in french oak hogsheads for 18 months....</td>\n",
       "      <td>1</td>\n",
       "      <td>matured french oak hogsheads 18 months. pitch ...</td>\n",
       "    </tr>\n",
       "    <tr>\n",
       "      <th>7</th>\n",
       "      <td>named after stuart blackwell, senior winemaker...</td>\n",
       "      <td>1</td>\n",
       "      <td>named stuart blackwell, senior winemaker st. h...</td>\n",
       "    </tr>\n",
       "    <tr>\n",
       "      <th>8</th>\n",
       "      <td>fraser gallopâs parterre cabernet takes its ...</td>\n",
       "      <td>1</td>\n",
       "      <td>fraser gallopâs parterre cabernet takes insp...</td>\n",
       "    </tr>\n",
       "    <tr>\n",
       "      <th>9</th>\n",
       "      <td>sons of eden is a partnership between winemake...</td>\n",
       "      <td>1</td>\n",
       "      <td>sons eden partnership winemaker corey ryan vit...</td>\n",
       "    </tr>\n",
       "    <tr>\n",
       "      <th>10</th>\n",
       "      <td>slightly less curvy, yet still incredibly powe...</td>\n",
       "      <td>1</td>\n",
       "      <td>slightly less curvy, yet still incredibly powe...</td>\n",
       "    </tr>\n",
       "    <tr>\n",
       "      <th>11</th>\n",
       "      <td>a blend of 94% cabernet sauvignon, 4% malbec a...</td>\n",
       "      <td>1</td>\n",
       "      <td>blend 94% cabernet sauvignon, 4% malbec 2% cab...</td>\n",
       "    </tr>\n",
       "    <tr>\n",
       "      <th>12</th>\n",
       "      <td>matured in burgundian oak, 25-30% of which was...</td>\n",
       "      <td>1</td>\n",
       "      <td>matured burgundian oak, 25-30% new, period 18 ...</td>\n",
       "    </tr>\n",
       "    <tr>\n",
       "      <th>13</th>\n",
       "      <td>pitch black heart with a deep dark red black t...</td>\n",
       "      <td>1</td>\n",
       "      <td>pitch black heart deep dark red black tinged h...</td>\n",
       "    </tr>\n",
       "    <tr>\n",
       "      <th>14</th>\n",
       "      <td>home hill is one of your classic australian vi...</td>\n",
       "      <td>1</td>\n",
       "      <td>home hill one classic australian vineyard retr...</td>\n",
       "    </tr>\n",
       "  </tbody>\n",
       "</table>\n",
       "</div>"
      ],
      "text/plain": [
       "                                               Review  Labels  \\\n",
       "0   pitch black heart with a deep dark red black t...       1   \n",
       "1   finely structured, beautifully balanced and bl...       1   \n",
       "2   over the last decade or so sanguine estate hav...       1   \n",
       "3   izway is a partnership of two well-travelled w...       1   \n",
       "4   kalleskeâs greenock shiraz is a single viney...       1   \n",
       "5   sourced from the original pennyâs hill viney...       1   \n",
       "6   matured in french oak hogsheads for 18 months....       1   \n",
       "7   named after stuart blackwell, senior winemaker...       1   \n",
       "8   fraser gallopâs parterre cabernet takes its ...       1   \n",
       "9   sons of eden is a partnership between winemake...       1   \n",
       "10  slightly less curvy, yet still incredibly powe...       1   \n",
       "11  a blend of 94% cabernet sauvignon, 4% malbec a...       1   \n",
       "12  matured in burgundian oak, 25-30% of which was...       1   \n",
       "13  pitch black heart with a deep dark red black t...       1   \n",
       "14  home hill is one of your classic australian vi...       1   \n",
       "\n",
       "                             review_without_stopwords  \n",
       "0   pitch black heart deep dark red black tinged h...  \n",
       "1   finely structured, beautifully balanced blesse...  \n",
       "2   last decade sanguine estate steadily built rep...  \n",
       "3   izway partnership two well-travelled winemaker...  \n",
       "4   kalleskeâs greenock shiraz single vineyard w...  \n",
       "5   sourced original pennyâs hill vineyard, slig...  \n",
       "6   matured french oak hogsheads 18 months. pitch ...  \n",
       "7   named stuart blackwell, senior winemaker st. h...  \n",
       "8   fraser gallopâs parterre cabernet takes insp...  \n",
       "9   sons eden partnership winemaker corey ryan vit...  \n",
       "10  slightly less curvy, yet still incredibly powe...  \n",
       "11  blend 94% cabernet sauvignon, 4% malbec 2% cab...  \n",
       "12  matured burgundian oak, 25-30% new, period 18 ...  \n",
       "13  pitch black heart deep dark red black tinged h...  \n",
       "14  home hill one classic australian vineyard retr...  "
      ]
     },
     "execution_count": 7,
     "metadata": {},
     "output_type": "execute_result"
    }
   ],
   "source": [
    "import nltk\n",
    "#nltk.download('stopwords')\n",
    "stop = stopwords.words('english')\n",
    "result['review_without_stopwords'] = result['Review'].apply(lambda x: ' '.join([word for word in x.split() if word not in (stop)]))\n",
    "result[['Review', 'Labels', 'review_without_stopwords']].head(15)"
   ]
  },
  {
   "cell_type": "markdown",
   "metadata": {},
   "source": [
    "<font size=\"3\">Tease out the POS with the x and y, no stop words. </font>"
   ]
  },
  {
   "cell_type": "code",
   "execution_count": 8,
   "metadata": {
    "colab": {
     "base_uri": "https://localhost:8080/",
     "height": 306
    },
    "id": "cDSMcpgesSmD",
    "outputId": "6272fb3e-ef7b-49e2-9adb-a862cec83f1c"
   },
   "outputs": [
    {
     "data": {
      "text/html": [
       "<div>\n",
       "<style scoped>\n",
       "    .dataframe tbody tr th:only-of-type {\n",
       "        vertical-align: middle;\n",
       "    }\n",
       "\n",
       "    .dataframe tbody tr th {\n",
       "        vertical-align: top;\n",
       "    }\n",
       "\n",
       "    .dataframe thead th {\n",
       "        text-align: right;\n",
       "    }\n",
       "</style>\n",
       "<table border=\"1\" class=\"dataframe\">\n",
       "  <thead>\n",
       "    <tr style=\"text-align: right;\">\n",
       "      <th></th>\n",
       "      <th>review_without_stopwords</th>\n",
       "    </tr>\n",
       "  </thead>\n",
       "  <tbody>\n",
       "    <tr>\n",
       "      <th>0</th>\n",
       "      <td>[(pitch, NN), (black, JJ), (heart, NN), (deep,...</td>\n",
       "    </tr>\n",
       "    <tr>\n",
       "      <th>1</th>\n",
       "      <td>[(finely, RB), (structured, VBN), (beautifully...</td>\n",
       "    </tr>\n",
       "    <tr>\n",
       "      <th>2</th>\n",
       "      <td>[(last, JJ), (decade, NN), (sanguine, JJ), (es...</td>\n",
       "    </tr>\n",
       "    <tr>\n",
       "      <th>3</th>\n",
       "      <td>[(izway, RB), (partnership, NN), (two, CD), (w...</td>\n",
       "    </tr>\n",
       "    <tr>\n",
       "      <th>4</th>\n",
       "      <td>[(kalleskeâs, NN), (greenock, NN), (shiraz, ...</td>\n",
       "    </tr>\n",
       "  </tbody>\n",
       "</table>\n",
       "</div>"
      ],
      "text/plain": [
       "                            review_without_stopwords\n",
       "0  [(pitch, NN), (black, JJ), (heart, NN), (deep,...\n",
       "1  [(finely, RB), (structured, VBN), (beautifully...\n",
       "2  [(last, JJ), (decade, NN), (sanguine, JJ), (es...\n",
       "3  [(izway, RB), (partnership, NN), (two, CD), (w...\n",
       "4  [(kalleskeâs, NN), (greenock, NN), (shiraz, ..."
      ]
     },
     "execution_count": 8,
     "metadata": {},
     "output_type": "execute_result"
    }
   ],
   "source": [
    "# nltk.download('punkt')\n",
    "# nltk.download('averaged_perceptron_tagger')\n",
    "\n",
    "def pos(review_without_stopwords):\n",
    "    return TextBlob(review_without_stopwords).tags\n",
    "\n",
    "os = result.review_without_stopwords.apply(pos)\n",
    "os1 = pd.DataFrame(os)\n",
    "os1.head()\n"
   ]
  },
  {
   "cell_type": "code",
   "execution_count": 9,
   "metadata": {},
   "outputs": [],
   "source": [
    "os1['pos'] = os1['review_without_stopwords'].map(lambda x:\" \".join([\"/\".join(x) for x in x ]) )"
   ]
  },
  {
   "cell_type": "code",
   "execution_count": 10,
   "metadata": {
    "colab": {
     "base_uri": "https://localhost:8080/",
     "height": 289
    },
    "id": "VkYHIcY9sxOi",
    "outputId": "e15b5c96-a5fc-4b10-8129-076661cb3aa8"
   },
   "outputs": [
    {
     "data": {
      "text/html": [
       "<div>\n",
       "<style scoped>\n",
       "    .dataframe tbody tr th:only-of-type {\n",
       "        vertical-align: middle;\n",
       "    }\n",
       "\n",
       "    .dataframe tbody tr th {\n",
       "        vertical-align: top;\n",
       "    }\n",
       "\n",
       "    .dataframe thead th {\n",
       "        text-align: right;\n",
       "    }\n",
       "</style>\n",
       "<table border=\"1\" class=\"dataframe\">\n",
       "  <thead>\n",
       "    <tr style=\"text-align: right;\">\n",
       "      <th></th>\n",
       "      <th>Vintage</th>\n",
       "      <th>Wine</th>\n",
       "      <th>Expert_Rating</th>\n",
       "      <th>Price</th>\n",
       "      <th>Price2</th>\n",
       "      <th>Expert_Description</th>\n",
       "      <th>desc_vivino</th>\n",
       "      <th>Community_Rating</th>\n",
       "      <th>Ex_Rating_Norm</th>\n",
       "      <th>Comm_Rating_Norm</th>\n",
       "      <th>Review</th>\n",
       "      <th>Labels</th>\n",
       "      <th>review_without_stopwords_x</th>\n",
       "      <th>review_without_stopwords_y</th>\n",
       "      <th>pos</th>\n",
       "    </tr>\n",
       "  </thead>\n",
       "  <tbody>\n",
       "    <tr>\n",
       "      <th>0</th>\n",
       "      <td>2016</td>\n",
       "      <td>Shaw &amp; Smith Shiraz</td>\n",
       "      <td>97</td>\n",
       "      <td>$23.99</td>\n",
       "      <td>$515.88</td>\n",
       "      <td>Pitch black heart with a deep dark red black t...</td>\n",
       "      <td>Big bold red. Peppery and flavours of plum and...</td>\n",
       "      <td>4</td>\n",
       "      <td>0.97</td>\n",
       "      <td>0.8</td>\n",
       "      <td>pitch black heart with a deep dark red black t...</td>\n",
       "      <td>1</td>\n",
       "      <td>pitch black heart deep dark red black tinged h...</td>\n",
       "      <td>[(pitch, NN), (black, JJ), (heart, NN), (deep,...</td>\n",
       "      <td>pitch/NN black/JJ heart/NN deep/JJ dark/NN red...</td>\n",
       "    </tr>\n",
       "    <tr>\n",
       "      <th>0</th>\n",
       "      <td>2016</td>\n",
       "      <td>Shaw &amp; Smith Shiraz</td>\n",
       "      <td>97</td>\n",
       "      <td>$23.99</td>\n",
       "      <td>$515.88</td>\n",
       "      <td>Pitch black heart with a deep dark red black t...</td>\n",
       "      <td>Big bold red. Peppery and flavours of plum and...</td>\n",
       "      <td>4</td>\n",
       "      <td>0.97</td>\n",
       "      <td>0.8</td>\n",
       "      <td>pitch black heart with a deep dark red black t...</td>\n",
       "      <td>1</td>\n",
       "      <td>pitch black heart deep dark red black tinged h...</td>\n",
       "      <td>[(pitch, NN), (black, JJ), (heart, NN), (deep,...</td>\n",
       "      <td>pitch/NN black/JJ heart/NN deep/JJ dark/NN red...</td>\n",
       "    </tr>\n",
       "    <tr>\n",
       "      <th>0</th>\n",
       "      <td>2016</td>\n",
       "      <td>Shaw &amp; Smith Shiraz</td>\n",
       "      <td>97</td>\n",
       "      <td>$23.99</td>\n",
       "      <td>$515.88</td>\n",
       "      <td>Pitch black heart with a deep dark red black t...</td>\n",
       "      <td>Big bold red. Peppery and flavours of plum and...</td>\n",
       "      <td>4</td>\n",
       "      <td>0.97</td>\n",
       "      <td>0.8</td>\n",
       "      <td>pitch black heart with a deep dark red black t...</td>\n",
       "      <td>0</td>\n",
       "      <td>pitch black heart deep dark red black tinged h...</td>\n",
       "      <td>[(pitch, NN), (black, JJ), (heart, NN), (deep,...</td>\n",
       "      <td>pitch/NN black/JJ heart/NN deep/JJ dark/NN red...</td>\n",
       "    </tr>\n",
       "    <tr>\n",
       "      <th>0</th>\n",
       "      <td>2016</td>\n",
       "      <td>Shaw &amp; Smith Shiraz</td>\n",
       "      <td>97</td>\n",
       "      <td>$23.99</td>\n",
       "      <td>$515.88</td>\n",
       "      <td>Pitch black heart with a deep dark red black t...</td>\n",
       "      <td>Big bold red. Peppery and flavours of plum and...</td>\n",
       "      <td>4</td>\n",
       "      <td>0.97</td>\n",
       "      <td>0.8</td>\n",
       "      <td>pitch black heart with a deep dark red black t...</td>\n",
       "      <td>0</td>\n",
       "      <td>pitch black heart deep dark red black tinged h...</td>\n",
       "      <td>[(pitch, NN), (black, JJ), (heart, NN), (deep,...</td>\n",
       "      <td>pitch/NN black/JJ heart/NN deep/JJ dark/NN red...</td>\n",
       "    </tr>\n",
       "    <tr>\n",
       "      <th>1</th>\n",
       "      <td>2014</td>\n",
       "      <td>Ring Bolt 21 Barriques Cabernet Sauvignon</td>\n",
       "      <td>97</td>\n",
       "      <td>$26.99</td>\n",
       "      <td>$269.88</td>\n",
       "      <td>Finely structured, beautifully balanced and bl...</td>\n",
       "      <td>Strong plum and blackberry nose with some whit...</td>\n",
       "      <td>3.5</td>\n",
       "      <td>0.97</td>\n",
       "      <td>0.7</td>\n",
       "      <td>finely structured, beautifully balanced and bl...</td>\n",
       "      <td>1</td>\n",
       "      <td>finely structured, beautifully balanced blesse...</td>\n",
       "      <td>[(finely, RB), (structured, VBN), (beautifully...</td>\n",
       "      <td>finely/RB structured/VBN beautifully/RB balanc...</td>\n",
       "    </tr>\n",
       "  </tbody>\n",
       "</table>\n",
       "</div>"
      ],
      "text/plain": [
       "  Vintage                                       Wine  Expert_Rating   Price  \\\n",
       "0    2016                        Shaw & Smith Shiraz             97  $23.99   \n",
       "0    2016                        Shaw & Smith Shiraz             97  $23.99   \n",
       "0    2016                        Shaw & Smith Shiraz             97  $23.99   \n",
       "0    2016                        Shaw & Smith Shiraz             97  $23.99   \n",
       "1    2014  Ring Bolt 21 Barriques Cabernet Sauvignon             97  $26.99   \n",
       "\n",
       "    Price2                                 Expert_Description  \\\n",
       "0  $515.88  Pitch black heart with a deep dark red black t...   \n",
       "0  $515.88  Pitch black heart with a deep dark red black t...   \n",
       "0  $515.88  Pitch black heart with a deep dark red black t...   \n",
       "0  $515.88  Pitch black heart with a deep dark red black t...   \n",
       "1  $269.88  Finely structured, beautifully balanced and bl...   \n",
       "\n",
       "                                         desc_vivino Community_Rating  \\\n",
       "0  Big bold red. Peppery and flavours of plum and...                4   \n",
       "0  Big bold red. Peppery and flavours of plum and...                4   \n",
       "0  Big bold red. Peppery and flavours of plum and...                4   \n",
       "0  Big bold red. Peppery and flavours of plum and...                4   \n",
       "1  Strong plum and blackberry nose with some whit...              3.5   \n",
       "\n",
       "   Ex_Rating_Norm Comm_Rating_Norm  \\\n",
       "0            0.97              0.8   \n",
       "0            0.97              0.8   \n",
       "0            0.97              0.8   \n",
       "0            0.97              0.8   \n",
       "1            0.97              0.7   \n",
       "\n",
       "                                              Review  Labels  \\\n",
       "0  pitch black heart with a deep dark red black t...       1   \n",
       "0  pitch black heart with a deep dark red black t...       1   \n",
       "0  pitch black heart with a deep dark red black t...       0   \n",
       "0  pitch black heart with a deep dark red black t...       0   \n",
       "1  finely structured, beautifully balanced and bl...       1   \n",
       "\n",
       "                          review_without_stopwords_x  \\\n",
       "0  pitch black heart deep dark red black tinged h...   \n",
       "0  pitch black heart deep dark red black tinged h...   \n",
       "0  pitch black heart deep dark red black tinged h...   \n",
       "0  pitch black heart deep dark red black tinged h...   \n",
       "1  finely structured, beautifully balanced blesse...   \n",
       "\n",
       "                          review_without_stopwords_y  \\\n",
       "0  [(pitch, NN), (black, JJ), (heart, NN), (deep,...   \n",
       "0  [(pitch, NN), (black, JJ), (heart, NN), (deep,...   \n",
       "0  [(pitch, NN), (black, JJ), (heart, NN), (deep,...   \n",
       "0  [(pitch, NN), (black, JJ), (heart, NN), (deep,...   \n",
       "1  [(finely, RB), (structured, VBN), (beautifully...   \n",
       "\n",
       "                                                 pos  \n",
       "0  pitch/NN black/JJ heart/NN deep/JJ dark/NN red...  \n",
       "0  pitch/NN black/JJ heart/NN deep/JJ dark/NN red...  \n",
       "0  pitch/NN black/JJ heart/NN deep/JJ dark/NN red...  \n",
       "0  pitch/NN black/JJ heart/NN deep/JJ dark/NN red...  \n",
       "1  finely/RB structured/VBN beautifully/RB balanc...  "
      ]
     },
     "execution_count": 10,
     "metadata": {},
     "output_type": "execute_result"
    }
   ],
   "source": [
    "result = result = pd.merge(result, os1,right_index=True,left_index = True)\n",
    "result.head()"
   ]
  },
  {
   "cell_type": "markdown",
   "metadata": {},
   "source": [
    "<font size=\"3\">To compare results with little, training and testing is required. </font>"
   ]
  },
  {
   "cell_type": "code",
   "execution_count": 11,
   "metadata": {
    "id": "vqAjB66Ss0-G"
   },
   "outputs": [],
   "source": [
    "review_train, review_test, label_train, label_test = train_test_split(result['pos'],result['Labels'], test_size=0.2,random_state=13)"
   ]
  },
  {
   "cell_type": "markdown",
   "metadata": {},
   "source": [
    "<font size=\"3\"> Apply TFIDF vectorisation. </font>"
   ]
  },
  {
   "cell_type": "code",
   "execution_count": 12,
   "metadata": {
    "id": "T0_p8-1-s1w_"
   },
   "outputs": [],
   "source": [
    "tf_vect = TfidfVectorizer(lowercase = True, use_idf=True, smooth_idf=True, sublinear_tf=False)\n",
    "\n",
    "X_train_tf = tf_vect.fit_transform(review_train)\n",
    "X_test_tf = tf_vect.transform(review_test)"
   ]
  },
  {
   "cell_type": "code",
   "execution_count": 13,
   "metadata": {
    "id": "2hjEQG08s5oh"
   },
   "outputs": [],
   "source": [
    "def svc_param_selection(X, y, nfolds):\n",
    "    Cs = [0.001, 0.01, 0.1, 1, 10]\n",
    "    gammas = [0.001, 0.01, 0.1, 1]\n",
    "    param_grid = {'C': Cs, 'gamma' : gammas}\n",
    "    grid_search = GridSearchCV(svm.SVC(kernel='linear'), param_grid, cv=nfolds)\n",
    "    grid_search.fit(X, y)\n",
    "    return grid_search.best_params_"
   ]
  },
  {
   "cell_type": "code",
   "execution_count": 14,
   "metadata": {
    "id": "ZBmXRVNSs8iS"
   },
   "outputs": [
    {
     "name": "stdout",
     "output_type": "stream",
     "text": [
      "{'C': 0.001, 'gamma': 0.001}\n"
     ]
    }
   ],
   "source": [
    "print(svc_param_selection(X_train_tf,label_train,5))"
   ]
  },
  {
   "cell_type": "code",
   "execution_count": 15,
   "metadata": {
    "colab": {
     "base_uri": "https://localhost:8080/"
    },
    "id": "i8e-Pzl8YfRX",
    "outputId": "f5240d19-b854-4bdf-b3e5-80a9f6f9ff81"
   },
   "outputs": [],
   "source": [
    "#!pip install scikit-plot"
   ]
  },
  {
   "cell_type": "markdown",
   "metadata": {},
   "source": [
    "<font size=\"3\">Apply random forrest classifier. </font>"
   ]
  },
  {
   "cell_type": "code",
   "execution_count": 16,
   "metadata": {
    "colab": {
     "base_uri": "https://localhost:8080/"
    },
    "id": "FQNLj-FhtAlT",
    "outputId": "b1b8ff3c-5dce-42b4-e378-6d7ff6b05113"
   },
   "outputs": [
    {
     "name": "stderr",
     "output_type": "stream",
     "text": [
      "[Parallel(n_jobs=-1)]: Using backend ThreadingBackend with 8 concurrent workers.\n"
     ]
    },
    {
     "name": "stdout",
     "output_type": "stream",
     "text": [
      "building tree 1 of 100building tree 2 of 100\n",
      "building tree 3 of 100\n",
      "building tree 4 of 100\n",
      "building tree 5 of 100\n",
      "\n",
      "building tree 6 of 100\n",
      "building tree 7 of 100\n",
      "building tree 8 of 100\n",
      "building tree 9 of 100\n",
      "building tree 10 of 100\n",
      "building tree 11 of 100\n",
      "building tree 12 of 100\n",
      "building tree 13 of 100building tree 14 of 100\n",
      "building tree 15 of 100\n",
      "\n",
      "building tree 16 of 100\n",
      "building tree 17 of 100\n",
      "building tree 18 of 100\n",
      "building tree 19 of 100\n",
      "building tree 20 of 100\n",
      "building tree 21 of 100\n",
      "building tree 22 of 100building tree 23 of 100\n",
      "\n",
      "building tree 24 of 100\n",
      "building tree 25 of 100\n",
      "building tree 26 of 100\n",
      "building tree 27 of 100\n",
      "building tree 28 of 100\n",
      "building tree 29 of 100\n",
      "building tree 30 of 100\n",
      "building tree 31 of 100\n",
      "building tree 32 of 100\n"
     ]
    },
    {
     "name": "stderr",
     "output_type": "stream",
     "text": [
      "[Parallel(n_jobs=-1)]: Done  25 tasks      | elapsed:    0.9s\n"
     ]
    },
    {
     "name": "stdout",
     "output_type": "stream",
     "text": [
      "building tree 33 of 100\n",
      "building tree 34 of 100\n",
      "building tree 35 of 100\n",
      "building tree 36 of 100\n",
      "building tree 37 of 100\n",
      "building tree 38 of 100\n",
      "building tree 39 of 100\n",
      "building tree 40 of 100\n",
      "building tree 41 of 100\n",
      "building tree 42 of 100\n",
      "building tree 43 of 100\n",
      "building tree 44 of 100\n",
      "building tree 45 of 100\n",
      "building tree 46 of 100\n",
      "building tree 47 of 100\n",
      "building tree 48 of 100\n",
      "building tree 49 of 100\n",
      "building tree 50 of 100\n",
      "building tree 51 of 100\n",
      "building tree 52 of 100\n",
      "building tree 53 of 100\n",
      "building tree 54 of 100\n",
      "building tree 55 of 100\n",
      "building tree 56 of 100\n",
      "building tree 57 of 100\n",
      "building tree 58 of 100\n",
      "building tree 59 of 100\n",
      "building tree 60 of 100\n",
      "building tree 61 of 100\n",
      "building tree 62 of 100\n",
      "building tree 63 of 100\n",
      "building tree 64 of 100\n",
      "building tree 65 of 100\n",
      "building tree 66 of 100\n",
      "building tree 67 of 100building tree 68 of 100\n",
      "\n",
      "building tree 69 of 100\n",
      "building tree 70 of 100\n",
      "building tree 71 of 100\n",
      "building tree 72 of 100\n",
      "building tree 73 of 100\n",
      "building tree 74 of 100\n",
      "building tree 75 of 100\n",
      "building tree 76 of 100\n",
      "building tree 77 of 100\n",
      "building tree 78 of 100\n",
      "building tree 79 of 100\n",
      "building tree 80 of 100\n",
      "building tree 81 of 100\n",
      "building tree 82 of 100\n",
      "building tree 83 of 100\n",
      "building tree 84 of 100\n",
      "building tree 85 of 100\n",
      "building tree 86 of 100\n",
      "building tree 87 of 100\n",
      "building tree 88 of 100\n",
      "building tree 89 of 100\n",
      "building tree 90 of 100\n",
      "building tree 91 of 100\n",
      "building tree 92 of 100\n",
      "building tree 93 of 100\n",
      "building tree 94 of 100\n",
      "building tree 95 of 100\n",
      "building tree 96 of 100\n",
      "building tree 97 of 100\n",
      "building tree 98 of 100\n",
      "building tree 99 of 100\n",
      "building tree 100 of 100\n"
     ]
    },
    {
     "name": "stderr",
     "output_type": "stream",
     "text": [
      "[Parallel(n_jobs=-1)]: Done 100 out of 100 | elapsed:    4.3s finished\n",
      "[Parallel(n_jobs=8)]: Using backend ThreadingBackend with 8 concurrent workers.\n",
      "[Parallel(n_jobs=8)]: Done  25 tasks      | elapsed:    0.0s\n",
      "[Parallel(n_jobs=8)]: Done 100 out of 100 | elapsed:    0.0s finished\n",
      "[Parallel(n_jobs=8)]: Using backend ThreadingBackend with 8 concurrent workers.\n",
      "[Parallel(n_jobs=8)]: Done  25 tasks      | elapsed:    0.0s\n",
      "[Parallel(n_jobs=8)]: Done 100 out of 100 | elapsed:    0.0s finished\n"
     ]
    },
    {
     "data": {
      "image/png": "[encoded data removed]",
      "text/plain": [
       "<Figure size 432x288 with 1 Axes>"
      ]
     },
     "metadata": {
      "needs_background": "light"
     },
     "output_type": "display_data"
    }
   ],
   "source": [
    "from sklearn.ensemble import RandomForestClassifier\n",
    "from sklearn.tree import DecisionTreeClassifier\n",
    "import sklearn\n",
    "from sklearn.svm import SVC\n",
    "import scikitplot as skplt\n",
    "import matplotlib.pyplot as plt\n",
    "\n",
    "clf = SVC(C=10,gamma=0.001,kernel='linear')\n",
    "clf = RandomForestClassifier(verbose=2,n_jobs=-1,)\n",
    "\n",
    "# clf = DecisionTreeClassifier()\n",
    "clf.fit(X_train_tf,label_train)\n",
    "pred = clf.predict(X_test_tf)\n",
    "\n",
    "sklearn.metrics.plot_roc_curve(clf,X_test_tf,label_test)\n",
    "plt.show()"
   ]
  },
  {
   "cell_type": "markdown",
   "metadata": {},
   "source": [
    "<font size=\"3\"> Save models for recall. </font>"
   ]
  },
  {
   "cell_type": "code",
   "execution_count": 17,
   "metadata": {
    "id": "AxOv7-k56gO-"
   },
   "outputs": [],
   "source": [
    "with open('vectorizer.pickle', 'wb') as fin:\n",
    "    pickle.dump(tf_vect, fin)"
   ]
  },
  {
   "cell_type": "code",
   "execution_count": 18,
   "metadata": {},
   "outputs": [],
   "source": [
    "with open('mlmodel.pickle','wb') as f:\n",
    "    pickle.dump(clf,f)"
   ]
  },
  {
   "cell_type": "code",
   "execution_count": 19,
   "metadata": {
    "id": "AeYKkwng6jWx"
   },
   "outputs": [],
   "source": [
    "pkl = open('mlmodel.pickle', 'rb')\n",
    "clf = pickle.load(pkl)   \n",
    "vec = open('vectorizer.pickle', 'rb')\n",
    "tf_vect = pickle.load(vec)"
   ]
  },
  {
   "cell_type": "markdown",
   "metadata": {},
   "source": [
    "<font size=\"3\"> Apply vector transform to test. </font>"
   ]
  },
  {
   "cell_type": "code",
   "execution_count": 20,
   "metadata": {
    "colab": {
     "base_uri": "https://localhost:8080/",
     "height": 381
    },
    "id": "Jn7qcjTX6o3N",
    "outputId": "946a7d87-7a76-40ae-c604-ca35a85c9664"
   },
   "outputs": [
    {
     "name": "stderr",
     "output_type": "stream",
     "text": [
      "[Parallel(n_jobs=8)]: Using backend ThreadingBackend with 8 concurrent workers.\n",
      "[Parallel(n_jobs=8)]: Done  25 tasks      | elapsed:    0.0s\n",
      "[Parallel(n_jobs=8)]: Done 100 out of 100 | elapsed:    0.0s finished\n",
      "[Parallel(n_jobs=8)]: Using backend ThreadingBackend with 8 concurrent workers.\n",
      "[Parallel(n_jobs=8)]: Done  25 tasks      | elapsed:    0.0s\n",
      "[Parallel(n_jobs=8)]: Done 100 out of 100 | elapsed:    0.0s finished\n"
     ]
    },
    {
     "data": {
      "image/png": "[encoded data removed]",
      "text/plain": [
       "<Figure size 432x288 with 1 Axes>"
      ]
     },
     "metadata": {
      "needs_background": "light"
     },
     "output_type": "display_data"
    }
   ],
   "source": [
    "X_test_tf = tf_vect.transform(review_test)\n",
    "pred = clf.predict(X_test_tf)\n",
    "sklearn.metrics.plot_roc_curve(clf,X_test_tf,label_test)\n",
    "plt.show()"
   ]
  },
  {
   "cell_type": "markdown",
   "metadata": {},
   "source": [
    "<font size=\"3\"> Retrieve test statistics. </font>"
   ]
  },
  {
   "cell_type": "code",
   "execution_count": 21,
   "metadata": {
    "colab": {
     "base_uri": "https://localhost:8080/"
    },
    "id": "RKuvmJUF6rBY",
    "outputId": "dfe515db-6a1e-4a0f-e10d-f47f0d33c7cd"
   },
   "outputs": [
    {
     "name": "stdout",
     "output_type": "stream",
     "text": [
      "0.15755627009646303\n"
     ]
    }
   ],
   "source": [
    "print(metrics.accuracy_score(label_test, pred))"
   ]
  },
  {
   "cell_type": "code",
   "execution_count": 22,
   "metadata": {
    "colab": {
     "base_uri": "https://localhost:8080/"
    },
    "id": "_Lw_o18R6vLg",
    "outputId": "e11a5e18-4f5b-4f9b-c26c-714754f8bc64"
   },
   "outputs": [
    {
     "name": "stdout",
     "output_type": "stream",
     "text": [
      "[[ 29 126]\n",
      " [136  20]]\n"
     ]
    }
   ],
   "source": [
    "print (confusion_matrix(label_test, pred))"
   ]
  },
  {
   "cell_type": "code",
   "execution_count": 23,
   "metadata": {
    "colab": {
     "base_uri": "https://localhost:8080/"
    },
    "id": "ZwuMVidW6wOb",
    "outputId": "6a1716f8-0ca4-4413-c8be-403228735fb0"
   },
   "outputs": [
    {
     "name": "stdout",
     "output_type": "stream",
     "text": [
      "              precision    recall  f1-score   support\n",
      "\n",
      "           0       0.18      0.19      0.18       155\n",
      "           1       0.14      0.13      0.13       156\n",
      "\n",
      "    accuracy                           0.16       311\n",
      "   macro avg       0.16      0.16      0.16       311\n",
      "weighted avg       0.16      0.16      0.16       311\n",
      "\n"
     ]
    }
   ],
   "source": [
    "print (classification_report(label_test, pred))"
   ]
  },
  {
   "cell_type": "code",
   "execution_count": 24,
   "metadata": {
    "id": "h6GKKSXG6yYs"
   },
   "outputs": [],
   "source": [
    "review_train, review_test, label_train, label_test = train_test_split(result['pos'],result['Labels'], test_size=0.2,random_state=1)"
   ]
  },
  {
   "cell_type": "code",
   "execution_count": 25,
   "metadata": {
    "colab": {
     "base_uri": "https://localhost:8080/"
    },
    "id": "EqRZHAxg622x",
    "outputId": "dc5737b1-0e6f-46e4-d6c7-f621a04328b7"
   },
   "outputs": [
    {
     "name": "stderr",
     "output_type": "stream",
     "text": [
      "[Parallel(n_jobs=8)]: Using backend ThreadingBackend with 8 concurrent workers.\n",
      "[Parallel(n_jobs=8)]: Done  25 tasks      | elapsed:    0.0s\n",
      "[Parallel(n_jobs=8)]: Done 100 out of 100 | elapsed:    0.0s finished\n"
     ]
    }
   ],
   "source": [
    "X_test_tf = tf_vect.transform(review_test)\n",
    "pred = clf.predict(X_test_tf)"
   ]
  },
  {
   "cell_type": "code",
   "execution_count": 26,
   "metadata": {
    "colab": {
     "base_uri": "https://localhost:8080/"
    },
    "id": "nMXT4pmv66eo",
    "outputId": "6ceaa7c0-1b4c-45a3-fe24-4496a6c0f117"
   },
   "outputs": [
    {
     "name": "stdout",
     "output_type": "stream",
     "text": [
      "0.5209003215434084\n"
     ]
    }
   ],
   "source": [
    "print(metrics.accuracy_score(label_test, pred))"
   ]
  },
  {
   "cell_type": "code",
   "execution_count": 27,
   "metadata": {
    "colab": {
     "base_uri": "https://localhost:8080/"
    },
    "id": "kT5IAN4R68Yl",
    "outputId": "992b7546-c2e2-486a-9777-936020f68e22"
   },
   "outputs": [
    {
     "name": "stdout",
     "output_type": "stream",
     "text": [
      "[[89 83]\n",
      " [66 73]]\n"
     ]
    }
   ],
   "source": [
    "print (confusion_matrix(label_test, pred))"
   ]
  },
  {
   "cell_type": "code",
   "execution_count": 28,
   "metadata": {
    "colab": {
     "base_uri": "https://localhost:8080/"
    },
    "id": "NhO9Gxqu6-5c",
    "outputId": "7ed7a6ec-c3a2-4354-e911-10ac2ce4cf6a"
   },
   "outputs": [
    {
     "name": "stdout",
     "output_type": "stream",
     "text": [
      "              precision    recall  f1-score   support\n",
      "\n",
      "           0       0.57      0.52      0.54       172\n",
      "           1       0.47      0.53      0.49       139\n",
      "\n",
      "    accuracy                           0.52       311\n",
      "   macro avg       0.52      0.52      0.52       311\n",
      "weighted avg       0.53      0.52      0.52       311\n",
      "\n"
     ]
    }
   ],
   "source": [
    "print (classification_report(label_test, pred))"
   ]
  },
  {
   "cell_type": "code",
   "execution_count": 29,
   "metadata": {
    "colab": {
     "base_uri": "https://localhost:8080/",
     "height": 585
    },
    "id": "JyVGnPsH7A9s",
    "outputId": "f5e54ede-51e3-425e-ea85-f23baa66f039"
   },
   "outputs": [
    {
     "name": "stderr",
     "output_type": "stream",
     "text": [
      "[Parallel(n_jobs=8)]: Using backend ThreadingBackend with 8 concurrent workers.\n",
      "[Parallel(n_jobs=8)]: Done  25 tasks      | elapsed:    0.0s\n",
      "[Parallel(n_jobs=8)]: Done 100 out of 100 | elapsed:    0.0s finished\n",
      "[Parallel(n_jobs=8)]: Using backend ThreadingBackend with 8 concurrent workers.\n"
     ]
    },
    {
     "name": "stdout",
     "output_type": "stream",
     "text": [
      "0.5273311897106109\n",
      "[[90 75]\n",
      " [72 74]]\n",
      "              precision    recall  f1-score   support\n",
      "\n",
      "           0       0.56      0.55      0.55       165\n",
      "           1       0.50      0.51      0.50       146\n",
      "\n",
      "    accuracy                           0.53       311\n",
      "   macro avg       0.53      0.53      0.53       311\n",
      "weighted avg       0.53      0.53      0.53       311\n",
      "\n"
     ]
    },
    {
     "name": "stderr",
     "output_type": "stream",
     "text": [
      "[Parallel(n_jobs=8)]: Done  25 tasks      | elapsed:    0.0s\n",
      "[Parallel(n_jobs=8)]: Done 100 out of 100 | elapsed:    0.0s finished\n"
     ]
    },
    {
     "data": {
      "image/png": "[encoded data removed]",
      "text/plain": [
       "<Figure size 432x288 with 1 Axes>"
      ]
     },
     "metadata": {
      "needs_background": "light"
     },
     "output_type": "display_data"
    }
   ],
   "source": [
    "review_train, review_test, label_train, label_test = train_test_split(result['pos'],result['Labels'], test_size=0.2,random_state=42)\n",
    "X_test_tf = tf_vect.transform(review_test)\n",
    "pred = clf.predict(X_test_tf)\n",
    "print(metrics.accuracy_score(label_test, pred))\n",
    "print (confusion_matrix(label_test, pred))\n",
    "print (classification_report(np.array(label_test), pred))\n",
    "sklearn.metrics.plot_roc_curve(clf,X_test_tf,label_test)\n",
    "plt.show()"
   ]
  }
 ],
 "metadata": {
  "colab": {
   "collapsed_sections": [],
   "name": "Wine review.ipynb",
   "provenance": []
  },
  "kernelspec": {
   "display_name": "Python 3",
   "language": "python",
   "name": "python3"
  },
  "language_info": {
   "codemirror_mode": {
    "name": "ipython",
    "version": 3
   },
   "file_extension": ".py",
   "mimetype": "text/x-python",
   "name": "python",
   "nbconvert_exporter": "python",
   "pygments_lexer": "ipython3",
   "version": "3.8.5"
  }
 },
 "nbformat": 4,
 "nbformat_minor": 1
}
